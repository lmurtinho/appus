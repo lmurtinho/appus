{
 "cells": [
  {
   "cell_type": "code",
   "execution_count": 1,
   "metadata": {
    "collapsed": true
   },
   "outputs": [],
   "source": [
    "import matplotlib.dates as mdates\n",
    "import matplotlib.pyplot as plt\n",
    "import seaborn as sns\n",
    "import numpy as np\n",
    "import pandas as pd\n",
    "import re\n",
    "\n",
    "%matplotlib inline"
   ]
  },
  {
   "cell_type": "code",
   "execution_count": 2,
   "metadata": {
    "collapsed": false
   },
   "outputs": [],
   "source": [
    "dados = pd.read_csv(\"questao1.csv\", sep=';', decimal=',', \n",
    "                    encoding='ISO-8859-1',\n",
    "                    header=0,\n",
    "                    index_col=False,\n",
    "                   names=[u'desligamento', u'ex_trainee',\n",
    "                          u'data_nasc', u'sexo', u'data_admis',\n",
    "                          u'cargo', u'area', u'salario', \n",
    "                          u'pos_crit', u'gestor', u'aval',\n",
    "                          u'dist', u'tempo', u'turnover'],\n",
    "                   dtype={u'desligamento': pd.Categorical,\n",
    "                         u'ex_trainee': pd.Categorical,\n",
    "                         u'data_nasc': str,\n",
    "                         u'sexo': pd.Categorical,\n",
    "                         u'data_admis': str,\n",
    "                         u'cargo': pd.Categorical,\n",
    "                         u'area': pd.Categorical,\n",
    "                         u'salario': str,\n",
    "                         u'pos_crit': pd.Categorical,\n",
    "                         u'gestor': pd.Categorical,\n",
    "                         u'aval': pd.Categorical,\n",
    "                         u'dist': np.float64,\n",
    "                         u'tempo': np.float64,\n",
    "                         u'turnover': np.float64})"
   ]
  },
  {
   "cell_type": "code",
   "execution_count": 3,
   "metadata": {
    "collapsed": false
   },
   "outputs": [
    {
     "data": {
      "text/html": [
       "<div>\n",
       "<table border=\"1\" class=\"dataframe\">\n",
       "  <thead>\n",
       "    <tr style=\"text-align: right;\">\n",
       "      <th></th>\n",
       "      <th>desligamento</th>\n",
       "      <th>ex_trainee</th>\n",
       "      <th>data_nasc</th>\n",
       "      <th>sexo</th>\n",
       "      <th>data_admis</th>\n",
       "      <th>cargo</th>\n",
       "      <th>area</th>\n",
       "      <th>salario</th>\n",
       "      <th>pos_crit</th>\n",
       "      <th>gestor</th>\n",
       "      <th>aval</th>\n",
       "      <th>dist</th>\n",
       "      <th>tempo</th>\n",
       "      <th>turnover</th>\n",
       "    </tr>\n",
       "  </thead>\n",
       "  <tbody>\n",
       "    <tr>\n",
       "      <th>0</th>\n",
       "      <td>0</td>\n",
       "      <td>0</td>\n",
       "      <td>16/10/1963</td>\n",
       "      <td>M</td>\n",
       "      <td>1/27/03</td>\n",
       "      <td>1</td>\n",
       "      <td>Operacional</td>\n",
       "      <td>R$ 5.080,00</td>\n",
       "      <td>0</td>\n",
       "      <td>1</td>\n",
       "      <td>BOM</td>\n",
       "      <td>25.0</td>\n",
       "      <td>17.0</td>\n",
       "      <td>0.03</td>\n",
       "    </tr>\n",
       "    <tr>\n",
       "      <th>1</th>\n",
       "      <td>0</td>\n",
       "      <td>0</td>\n",
       "      <td>27/04/1963</td>\n",
       "      <td>M</td>\n",
       "      <td>10/05/1992</td>\n",
       "      <td>2</td>\n",
       "      <td>Administrativo</td>\n",
       "      <td>R$ 12.498,33</td>\n",
       "      <td>0</td>\n",
       "      <td>2</td>\n",
       "      <td>BOM</td>\n",
       "      <td>29.0</td>\n",
       "      <td>20.0</td>\n",
       "      <td>0.17</td>\n",
       "    </tr>\n",
       "    <tr>\n",
       "      <th>2</th>\n",
       "      <td>0</td>\n",
       "      <td>0</td>\n",
       "      <td>29/01/1960</td>\n",
       "      <td>M</td>\n",
       "      <td>01/03/1989</td>\n",
       "      <td>3</td>\n",
       "      <td>Administrativo</td>\n",
       "      <td>R$ 9.966,67</td>\n",
       "      <td>0</td>\n",
       "      <td>3</td>\n",
       "      <td>BOM</td>\n",
       "      <td>10.0</td>\n",
       "      <td>6.0</td>\n",
       "      <td>0.23</td>\n",
       "    </tr>\n",
       "    <tr>\n",
       "      <th>3</th>\n",
       "      <td>0</td>\n",
       "      <td>0</td>\n",
       "      <td>14/07/1941</td>\n",
       "      <td>M</td>\n",
       "      <td>06/05/1991</td>\n",
       "      <td>4</td>\n",
       "      <td>Operacional</td>\n",
       "      <td>R$ 3.795,00</td>\n",
       "      <td>0</td>\n",
       "      <td>4</td>\n",
       "      <td>OTIMO</td>\n",
       "      <td>25.0</td>\n",
       "      <td>17.0</td>\n",
       "      <td>0.11</td>\n",
       "    </tr>\n",
       "    <tr>\n",
       "      <th>4</th>\n",
       "      <td>1</td>\n",
       "      <td>0</td>\n",
       "      <td>28/12/1972</td>\n",
       "      <td>M</td>\n",
       "      <td>09/01/1994</td>\n",
       "      <td>5</td>\n",
       "      <td>Coordenação</td>\n",
       "      <td>R$ 21.628,33</td>\n",
       "      <td>1</td>\n",
       "      <td>5</td>\n",
       "      <td>OTIMO</td>\n",
       "      <td>14.0</td>\n",
       "      <td>9.0</td>\n",
       "      <td>0.02</td>\n",
       "    </tr>\n",
       "  </tbody>\n",
       "</table>\n",
       "</div>"
      ],
      "text/plain": [
       "  desligamento ex_trainee   data_nasc sexo  data_admis cargo            area  \\\n",
       "0            0          0  16/10/1963    M     1/27/03     1    Operacional    \n",
       "1            0          0  27/04/1963    M  10/05/1992     2  Administrativo   \n",
       "2            0          0  29/01/1960    M  01/03/1989     3  Administrativo   \n",
       "3            0          0  14/07/1941    M  06/05/1991     4    Operacional    \n",
       "4            1          0  28/12/1972    M  09/01/1994     5     Coordenação   \n",
       "\n",
       "        salario pos_crit gestor   aval  dist  tempo  turnover  \n",
       "0   R$ 5.080,00        0      1    BOM  25.0   17.0      0.03  \n",
       "1  R$ 12.498,33        0      2    BOM  29.0   20.0      0.17  \n",
       "2   R$ 9.966,67        0      3    BOM  10.0    6.0      0.23  \n",
       "3   R$ 3.795,00        0      4  OTIMO  25.0   17.0      0.11  \n",
       "4  R$ 21.628,33        1      5  OTIMO  14.0    9.0      0.02  "
      ]
     },
     "execution_count": 3,
     "metadata": {},
     "output_type": "execute_result"
    }
   ],
   "source": [
    "dados.head()"
   ]
  },
  {
   "cell_type": "code",
   "execution_count": 4,
   "metadata": {
    "collapsed": false
   },
   "outputs": [
    {
     "name": "stdout",
     "output_type": "stream",
     "text": [
      "count     2500\n",
      "unique       2\n",
      "top          0\n",
      "freq      2354\n",
      "Name: desligamento, dtype: object\n",
      "\n",
      "count     2500\n",
      "unique       2\n",
      "top          0\n",
      "freq      2471\n",
      "Name: ex_trainee, dtype: object\n",
      "\n",
      "count           2500\n",
      "unique          2317\n",
      "top       16/06/1986\n",
      "freq               3\n",
      "Name: data_nasc, dtype: object\n",
      "\n",
      "count     2500\n",
      "unique       2\n",
      "top          M\n",
      "freq      2219\n",
      "Name: sexo, dtype: object\n",
      "\n",
      "count         2500\n",
      "unique        1138\n",
      "top       12/14/15\n",
      "freq            19\n",
      "Name: data_admis, dtype: object\n",
      "\n",
      "count     2500\n",
      "unique     885\n",
      "top        113\n",
      "freq        86\n",
      "Name: cargo, dtype: object\n",
      "\n",
      "count             2500\n",
      "unique               8\n",
      "top       Operacional \n",
      "freq              1654\n",
      "Name: area, dtype: object\n",
      "\n",
      "count            2500\n",
      "unique           1388\n",
      "top       R$ 3.418,33\n",
      "freq               48\n",
      "Name: salario, dtype: object\n",
      "\n",
      "count     2500\n",
      "unique       2\n",
      "top          0\n",
      "freq      2233\n",
      "Name: pos_crit, dtype: object\n",
      "\n",
      "count     2500\n",
      "unique     820\n",
      "top        314\n",
      "freq        22\n",
      "Name: gestor, dtype: object\n",
      "\n",
      "count     2500\n",
      "unique       4\n",
      "top        BOM\n",
      "freq      1475\n",
      "Name: aval, dtype: object\n",
      "\n",
      "count    2500.000000\n",
      "mean       16.007200\n",
      "std         9.508907\n",
      "min         0.000000\n",
      "25%         8.000000\n",
      "50%        16.000000\n",
      "75%        24.000000\n",
      "max        32.000000\n",
      "Name: dist, dtype: float64\n",
      "\n",
      "count    2500.000000\n",
      "mean       10.634000\n",
      "std         6.584511\n",
      "min         0.000000\n",
      "25%         5.000000\n",
      "50%        11.000000\n",
      "75%        16.000000\n",
      "max        22.000000\n",
      "Name: tempo, dtype: float64\n",
      "\n",
      "count    2500.000000\n",
      "mean        0.143336\n",
      "std         0.071305\n",
      "min         0.020000\n",
      "25%         0.080000\n",
      "50%         0.140000\n",
      "75%         0.210000\n",
      "max         0.260000\n",
      "Name: turnover, dtype: float64\n",
      "\n"
     ]
    }
   ],
   "source": [
    "for coluna in dados.columns:\n",
    "    print dados[coluna].describe()\n",
    "    print"
   ]
  },
  {
   "cell_type": "markdown",
   "metadata": {},
   "source": [
    "# Preparação de dados\n",
    "\n",
    "## Data de nascimento"
   ]
  },
  {
   "cell_type": "code",
   "execution_count": 5,
   "metadata": {
    "collapsed": false
   },
   "outputs": [],
   "source": [
    "nasc = []\n",
    "\n",
    "for data in dados.data_nasc:\n",
    "    try:\n",
    "        nasc.append(pd.to_datetime(data, format=\"%d/%m/%Y\"))\n",
    "    except:\n",
    "        nasc.append(pd.to_datetime(data, format=\"%m/%d/%y\"))\n",
    "\n",
    "dados.data_nasc = nasc"
   ]
  },
  {
   "cell_type": "code",
   "execution_count": 6,
   "metadata": {
    "collapsed": false
   },
   "outputs": [
    {
     "data": {
      "text/plain": [
       "count                    2500\n",
       "unique                   1836\n",
       "top       1996-08-25 00:00:00\n",
       "freq                        6\n",
       "first     1900-10-25 00:00:00\n",
       "last      2068-12-15 00:00:00\n",
       "Name: data_nasc, dtype: object"
      ]
     },
     "execution_count": 6,
     "metadata": {},
     "output_type": "execute_result"
    }
   ],
   "source": [
    "dados.data_nasc.describe()"
   ]
  },
  {
   "cell_type": "code",
   "execution_count": 7,
   "metadata": {
    "collapsed": false
   },
   "outputs": [
    {
     "data": {
      "text/plain": [
       "<Container object of 169 artists>"
      ]
     },
     "execution_count": 7,
     "metadata": {},
     "output_type": "execute_result"
    },
    {
     "data": {
      "image/png": "[encoded data removed]",
      "text/plain": [
       "<matplotlib.figure.Figure at 0x93aff98>"
      ]
     },
     "metadata": {},
     "output_type": "display_data"
    }
   ],
   "source": [
    "anos = [data.year for data in dados.data_nasc]\n",
    "seq_anos = range(min(anos), max(anos)+1)\n",
    "nascidos_por_ano = [sum([data.year==ano for data in dados.data_nasc]) for ano in seq_anos]\n",
    "\n",
    "fig, ax = plt.subplots(figsize=(9,6))\n",
    "ax.bar(seq_anos, nascidos_por_ano)"
   ]
  },
  {
   "cell_type": "code",
   "execution_count": 8,
   "metadata": {
    "collapsed": false
   },
   "outputs": [],
   "source": [
    "dados.data_nasc = dados.data_nasc.apply(lambda x: x - pd.DateOffset(years=100) if x.year> 2016 else x)"
   ]
  },
  {
   "cell_type": "code",
   "execution_count": 9,
   "metadata": {
    "collapsed": false
   },
   "outputs": [
    {
     "data": {
      "text/plain": [
       "count                    2500\n",
       "unique                   1761\n",
       "top       1994-09-29 00:00:00\n",
       "freq                        6\n",
       "first     1900-10-25 00:00:00\n",
       "last      2000-10-25 00:00:00\n",
       "Name: data_nasc, dtype: object"
      ]
     },
     "execution_count": 9,
     "metadata": {},
     "output_type": "execute_result"
    }
   ],
   "source": [
    "dados.data_nasc.describe()"
   ]
  },
  {
   "cell_type": "code",
   "execution_count": 10,
   "metadata": {
    "collapsed": false
   },
   "outputs": [
    {
     "data": {
      "text/html": [
       "<div>\n",
       "<table border=\"1\" class=\"dataframe\">\n",
       "  <thead>\n",
       "    <tr style=\"text-align: right;\">\n",
       "      <th></th>\n",
       "      <th>desligamento</th>\n",
       "      <th>ex_trainee</th>\n",
       "      <th>data_nasc</th>\n",
       "      <th>sexo</th>\n",
       "      <th>data_admis</th>\n",
       "      <th>cargo</th>\n",
       "      <th>area</th>\n",
       "      <th>salario</th>\n",
       "      <th>pos_crit</th>\n",
       "      <th>gestor</th>\n",
       "      <th>aval</th>\n",
       "      <th>dist</th>\n",
       "      <th>tempo</th>\n",
       "      <th>turnover</th>\n",
       "    </tr>\n",
       "  </thead>\n",
       "  <tbody>\n",
       "    <tr>\n",
       "      <th>1433</th>\n",
       "      <td>0</td>\n",
       "      <td>0</td>\n",
       "      <td>1900-10-25</td>\n",
       "      <td>M</td>\n",
       "      <td>8/27/12</td>\n",
       "      <td>57</td>\n",
       "      <td>Operacional</td>\n",
       "      <td>R$ 3.983,33</td>\n",
       "      <td>0</td>\n",
       "      <td>299</td>\n",
       "      <td>OTIMO</td>\n",
       "      <td>14.0</td>\n",
       "      <td>9.0</td>\n",
       "      <td>0.07</td>\n",
       "    </tr>\n",
       "  </tbody>\n",
       "</table>\n",
       "</div>"
      ],
      "text/plain": [
       "     desligamento ex_trainee  data_nasc sexo data_admis cargo          area  \\\n",
       "1433            0          0 1900-10-25    M    8/27/12    57  Operacional    \n",
       "\n",
       "          salario pos_crit gestor   aval  dist  tempo  turnover  \n",
       "1433  R$ 3.983,33        0    299  OTIMO  14.0    9.0      0.07  "
      ]
     },
     "execution_count": 10,
     "metadata": {},
     "output_type": "execute_result"
    }
   ],
   "source": [
    "dados[dados.data_nasc==min(dados.data_nasc)]"
   ]
  },
  {
   "cell_type": "code",
   "execution_count": 11,
   "metadata": {
    "collapsed": false
   },
   "outputs": [
    {
     "data": {
      "text/plain": [
       "[Int64Index([1433], dtype='int64')]"
      ]
     },
     "execution_count": 11,
     "metadata": {},
     "output_type": "execute_result"
    }
   ],
   "source": [
    "indices_remover = [dados[dados.data_nasc==min(dados.data_nasc)].index]\n",
    "indices_remover"
   ]
  },
  {
   "cell_type": "markdown",
   "metadata": {},
   "source": [
    "## Data de admissão"
   ]
  },
  {
   "cell_type": "code",
   "execution_count": 12,
   "metadata": {
    "collapsed": false
   },
   "outputs": [],
   "source": [
    "admis = []\n",
    "\n",
    "for data in dados.data_admis:\n",
    "    try:\n",
    "        admis.append(pd.to_datetime(data, format=\"%d/%m/%Y\"))\n",
    "    except:\n",
    "        admis.append(pd.to_datetime(data, format=\"%m/%d/%y\"))\n",
    "\n",
    "dados.data_admis = admis"
   ]
  },
  {
   "cell_type": "code",
   "execution_count": 13,
   "metadata": {
    "collapsed": false
   },
   "outputs": [
    {
     "data": {
      "text/plain": [
       "count                    2500\n",
       "unique                   1138\n",
       "top       2015-12-14 00:00:00\n",
       "freq                       19\n",
       "first     1973-01-08 00:00:00\n",
       "last      2068-05-15 00:00:00\n",
       "Name: data_admis, dtype: object"
      ]
     },
     "execution_count": 13,
     "metadata": {},
     "output_type": "execute_result"
    }
   ],
   "source": [
    "dados.data_admis.describe()"
   ]
  },
  {
   "cell_type": "code",
   "execution_count": 14,
   "metadata": {
    "collapsed": true
   },
   "outputs": [],
   "source": [
    "dados.data_admis = dados.data_admis.apply(lambda x: x - pd.DateOffset(years=100) if x.year> 2016 else x)"
   ]
  },
  {
   "cell_type": "code",
   "execution_count": 15,
   "metadata": {
    "collapsed": false
   },
   "outputs": [
    {
     "data": {
      "text/plain": [
       "<Container object of 48 artists>"
      ]
     },
     "execution_count": 15,
     "metadata": {},
     "output_type": "execute_result"
    },
    {
     "data": {
      "image/png": "[encoded data removed]",
      "text/plain": [
       "<matplotlib.figure.Figure at 0x987d3c8>"
      ]
     },
     "metadata": {},
     "output_type": "display_data"
    }
   ],
   "source": [
    "anos = [data.year for data in dados.data_admis]\n",
    "seq_anos = range(min(anos), max(anos)+1)\n",
    "admitidos_por_ano = [sum([data.year==ano for data in dados.data_admis]) for ano in seq_anos]\n",
    "\n",
    "fig, ax = plt.subplots(figsize=(9,6))\n",
    "ax.bar(seq_anos, admitidos_por_ano)"
   ]
  },
  {
   "cell_type": "code",
   "execution_count": 16,
   "metadata": {
    "collapsed": false
   },
   "outputs": [
    {
     "data": {
      "text/plain": [
       "51"
      ]
     },
     "execution_count": 16,
     "metadata": {},
     "output_type": "execute_result"
    }
   ],
   "source": [
    "sum(dados.data_nasc.apply(lambda x: x + pd.DateOffset(years=10))>dados.data_admis)"
   ]
  },
  {
   "cell_type": "code",
   "execution_count": 17,
   "metadata": {
    "collapsed": false
   },
   "outputs": [],
   "source": [
    "indices_remover.extend(dados[dados.data_nasc.apply(lambda x: x + pd.DateOffset(years=10))>dados.data_admis].index)"
   ]
  },
  {
   "cell_type": "code",
   "execution_count": 18,
   "metadata": {
    "collapsed": false
   },
   "outputs": [
    {
     "data": {
      "text/plain": [
       "52"
      ]
     },
     "execution_count": 18,
     "metadata": {},
     "output_type": "execute_result"
    }
   ],
   "source": [
    "len(indices_remover)"
   ]
  },
  {
   "cell_type": "markdown",
   "metadata": {},
   "source": [
    "## Salário médio mensal"
   ]
  },
  {
   "cell_type": "code",
   "execution_count": null,
   "metadata": {
    "collapsed": false
   },
   "outputs": [],
   "source": [
    "salario = [re.]"
   ]
  },
  {
   "cell_type": "code",
   "execution_count": null,
   "metadata": {
    "collapsed": true
   },
   "outputs": [],
   "source": []
  }
 ],
 "metadata": {
  "kernelspec": {
   "display_name": "Python 2",
   "language": "python",
   "name": "python2"
  },
  "language_info": {
   "codemirror_mode": {
    "name": "ipython",
    "version": 2
   },
   "file_extension": ".py",
   "mimetype": "text/x-python",
   "name": "python",
   "nbconvert_exporter": "python",
   "pygments_lexer": "ipython2",
   "version": "2.7.11"
  }
 },
 "nbformat": 4,
 "nbformat_minor": 0
}
